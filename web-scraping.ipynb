{
  "cells": [
    {
      "cell_type": "markdown",
      "metadata": {
        "id": "cYffZdXHmHjd"
      },
      "source": [
        "<table align=\"left\" width=100%>\n",
        "    <tr>\n",
        "        <td width=\"20%\">\n",
        "            <img src=\"faculty.png\">\n",
        "        </td>\n",
        "        <td>\n",
        "            <div align=\"center\">\n",
        "                <font color=\"#21618C\" size=8px>\n",
        "                  <b> Assignment Questions </b>\n",
        "                </font>\n",
        "            </div>\n",
        "        </td>\n",
        "    </tr>\n",
        "</table>"
      ]
    },
    {
      "cell_type": "markdown",
      "metadata": {
        "id": "NisFmsKamHjp"
      },
      "source": [
        "Total Marks: 30\n",
        "## URL for Ecommerce Site:\n",
        "\n",
        "https://www.amazon.in/"
      ]
    },
    {
      "cell_type": "markdown",
      "source": [
        "1. Import Libraries (2 Marks)\n",
        "2. Use the above URL to scrape product links from product listing pages (3 Marks)\n",
        "3. Scraping of \"laptop\" data from individual product pages (5 Marks)\n",
        "4. Construct csv file which includes following information (10 Marks)\n",
        "                         a. Product title\n",
        "                         b. Price\n",
        "                         c. Model\n",
        "                         d. Star rating\n",
        "5. Create a corpus with 10 sample sentences. Perform Parts of Speech (POS) Tagging for the sentences in the corpus. (4 Marks)\n",
        "6. Find the Named Entity Recognition (NER) for the same corpus. (3 Marks)\n",
        "7. Find the top 5 results for the following equation using Word2Vec Model\n",
        "\"Einstein - Scientist + Picasso = ?\" (3 Marks)"
      ],
      "metadata": {
        "id": "yCzQHAlP1lBm"
      }
    }
  ],
  "metadata": {
    "kernelspec": {
      "display_name": "Python 3",
      "language": "python",
      "name": "python3"
    },
    "language_info": {
      "codemirror_mode": {
        "name": "ipython",
        "version": 3
      },
      "file_extension": ".py",
      "mimetype": "text/x-python",
      "name": "python",
      "nbconvert_exporter": "python",
      "pygments_lexer": "ipython3",
      "version": "3.8.3"
    },
    "colab": {
      "provenance": []
    }
  },
  "nbformat": 4,
  "nbformat_minor": 0
}